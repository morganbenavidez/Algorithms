{
  "nbformat": 4,
  "nbformat_minor": 0,
  "metadata": {
    "colab": {
      "name": "DynamicProgrammingLongestCommonSubsequence.ipynb",
      "provenance": [],
      "collapsed_sections": []
    },
    "kernelspec": {
      "name": "python3",
      "display_name": "Python 3"
    },
    "language_info": {
      "name": "python"
    }
  },
  "cells": [
    {
      "cell_type": "markdown",
      "source": [
        "Longest Common Subsequence\n",
        "\n",
        "A subsequence of a string is a new string generated from the original string with some (or none) characters deleted without changing the relative order of the remaining characters.  (i.e. \"ade\" is a subsequence of \"abcdef\", but \"afb\" is not.  \n",
        "\n",
        "Common Subsequence\n",
        "\n",
        "A common subsequence of two strings is a subsequence found in both."
      ],
      "metadata": {
        "id": "HcHvOtkovyej"
      }
    },
    {
      "cell_type": "code",
      "execution_count": 27,
      "metadata": {
        "id": "35P_BvEPvrup"
      },
      "outputs": [],
      "source": [
        "# Longest Common Subsequence\n",
        "\n",
        "text1 = 'abcde'\n",
        "text2 = 'ace'\n",
        "m = len(text1)\n",
        "n = len(text2)"
      ]
    },
    {
      "cell_type": "code",
      "source": [
        "# Simple Recursion\n",
        "\n",
        "def lcs(string1, string2, m, n):\n",
        "\n",
        "  if m==0 or n==0:\n",
        "    return 0\n",
        "  elif string1[m-1] == string2[n-1]:\n",
        "    return 1 + lcs(string1, string2, m-1, n-1)\n",
        "  else:\n",
        "    return max(lcs(string1, string2, m, n-1), lcs(string1, string2, m-1, n))\n",
        "\n",
        "lcs(text1, text2, m, n)"
      ],
      "metadata": {
        "colab": {
          "base_uri": "https://localhost:8080/"
        },
        "id": "R7Jlq0ARz4my",
        "outputId": "c4b9d10c-997f-4af5-b4a7-86652e094618"
      },
      "execution_count": 11,
      "outputs": [
        {
          "output_type": "execute_result",
          "data": {
            "text/plain": [
              "3"
            ]
          },
          "metadata": {},
          "execution_count": 11
        }
      ]
    },
    {
      "cell_type": "code",
      "source": [
        "# Memorized Solution with Bottom Up\n",
        "\n",
        "def lcs2(string1, string2, m, n):\n",
        "\n",
        "  # Create a 2D array (matrix)\n",
        "  L = [[None] * (n+1) for i in range(m+1)]\n",
        "\n",
        "  for i in range(0, m+1):\n",
        "\n",
        "    print(L[i-1])\n",
        "\n",
        "    for j in range(0, n+1):\n",
        "\n",
        "      if i==0 or j==0:\n",
        "        \n",
        "        L[i][j] = 0\n",
        "\n",
        "      elif string1[i-1] == string2[j-1]:\n",
        "\n",
        "        L[i][j] = L[i-1][j-1] + 1\n",
        "\n",
        "      else:\n",
        "\n",
        "        L[i][j] = max(L[i-1][j], L[i][j-1])\n",
        "\n",
        "  return L[m][n]\n",
        "\n",
        "\n",
        "lcs2(text1, text2, m, n)"
      ],
      "metadata": {
        "colab": {
          "base_uri": "https://localhost:8080/"
        },
        "id": "PZdE5ZJ02tuj",
        "outputId": "b93b6088-86a5-4396-a214-2fb43582f7dd"
      },
      "execution_count": 28,
      "outputs": [
        {
          "output_type": "stream",
          "name": "stdout",
          "text": [
            "[None, None, None, None]\n",
            "[0, 0, 0, 0]\n",
            "[0, 1, 1, 1]\n",
            "[0, 1, 1, 1]\n",
            "[0, 1, 2, 2]\n",
            "[0, 1, 2, 2]\n"
          ]
        },
        {
          "output_type": "execute_result",
          "data": {
            "text/plain": [
              "3"
            ]
          },
          "metadata": {},
          "execution_count": 28
        }
      ]
    }
  ]
}